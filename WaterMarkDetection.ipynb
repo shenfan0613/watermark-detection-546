{
 "cells": [
  {
   "cell_type": "code",
   "execution_count": 9,
   "id": "56b4c14d-de42-4155-ae48-a7ed608a8617",
   "metadata": {},
   "outputs": [],
   "source": [
    "import time\n",
    "from object_detection.utils import label_map_util\n",
    "from object_detection.utils import config_util\n",
    "from object_detection.utils import visualization_utils as viz_utils\n",
    "from object_detection.builders import model_builder\n",
    "import os\n",
    "os.environ['TF_CPP_MIN_LOG_LEVEL'] = '2'    # Suppress TensorFlow logging (1)\n",
    "import pathlib\n",
    "import tensorflow as tf"
   ]
  },
  {
   "cell_type": "code",
   "execution_count": 20,
   "id": "1c839a36-1f81-4807-8f70-035c1a62c9f6",
   "metadata": {},
   "outputs": [],
   "source": [
    "PATH_TO_CFG = \"./TensorFlow/workspace/training_demo/exported-models/my_model/pipeline.config\"\n",
    "PATH_TO_CKPT = \"./TensorFlow/workspace/training_demo/exported-models/my_model/checkpoint\"\n",
    "PATH_TO_LABELS = \"./TensorFlow/workspace/training_demo/annotations/label_map.pbtxt\"\n",
    "image_path = \"./TensorFlow/workspace/training_demo/images/test/africa-south-africa-wild-nature-67553w.jpeg\""
   ]
  },
  {
   "cell_type": "code",
   "execution_count": 16,
   "id": "2bba4540-a151-421a-8a69-cc0613eb7129",
   "metadata": {},
   "outputs": [
    {
     "name": "stdout",
     "output_type": "stream",
     "text": [
      "Loading model... Done! Took 0.016023874282836914 seconds\n"
     ]
    }
   ],
   "source": [
    "print('Loading model... ', end='')\n",
    "start_time = time.time()\n",
    "# Load pipeline config and build a detection model\n",
    "configs = config_util.get_configs_from_pipeline_file(PATH_TO_CFG)\n",
    "model_config = configs['model']\n",
    "detection_model = model_builder.build(model_config=model_config, is_training=False)\n",
    "\n",
    "# Restore checkpoint\n",
    "ckpt = tf.compat.v2.train.Checkpoint(model=detection_model)\n",
    "ckpt.restore(os.path.join(PATH_TO_CKPT, 'ckpt-0')).expect_partial()\n",
    "\n",
    "@tf.function\n",
    "def detect_fn(image):\n",
    "    \"\"\"Detect objects in image.\"\"\"\n",
    "\n",
    "    image, shapes = detection_model.preprocess(image)\n",
    "    prediction_dict = detection_model.predict(image, shapes)\n",
    "    detections = detection_model.postprocess(prediction_dict, shapes)\n",
    "\n",
    "    return detections\n",
    "\n",
    "end_time = time.time()\n",
    "\n",
    "elapsed_time = end_time - start_time\n",
    "print('Done! Took {} seconds'.format(elapsed_time))"
   ]
  },
  {
   "cell_type": "code",
   "execution_count": 17,
   "id": "eb9b0fd5-db98-4787-b057-a9f8aefaf3f9",
   "metadata": {},
   "outputs": [],
   "source": [
    "category_index = label_map_util.create_category_index_from_labelmap(PATH_TO_LABELS,\n",
    "                                                                    use_display_name=True)"
   ]
  },
  {
   "cell_type": "code",
   "execution_count": 43,
   "id": "373f472d-aa2b-491a-bbf9-d4a00530e298",
   "metadata": {},
   "outputs": [],
   "source": [
    "import numpy as np\n",
    "from PIL import Image\n",
    "import matplotlib.pyplot as plt\n",
    "import warnings\n",
    "import matplotlib.image as mpimg"
   ]
  },
  {
   "cell_type": "code",
   "execution_count": 38,
   "id": "a2d91ea6-417b-4584-a696-74479bf2d6ed",
   "metadata": {},
   "outputs": [],
   "source": [
    "def load_image_into_numpy_array(path):\n",
    "    \"\"\"Load an image from file into a numpy array.\n",
    "\n",
    "    Puts image into numpy array to feed into tensorflow graph.\n",
    "    Note that by convention we put it into a numpy array with shape\n",
    "    (height, width, channels), where channels=3 for RGB.\n",
    "\n",
    "    Args:\n",
    "      path: the file path to the image\n",
    "\n",
    "    Returns:\n",
    "      uint8 numpy array with shape (img_height, img_width, 3)\n",
    "    \"\"\"\n",
    "    return np.array(Image.open(path))"
   ]
  },
  {
   "cell_type": "code",
   "execution_count": 46,
   "id": "a5050519-ac21-42ca-aad2-3df260f5e40a",
   "metadata": {},
   "outputs": [
    {
     "name": "stdout",
     "output_type": "stream",
     "text": [
      "Running inference for ./TensorFlow/workspace/training_demo/images/test/africa-south-africa-wild-nature-67553w.jpeg... 1 detections with score over 0.8\n",
      "Box 0: ymin=0.49886322021484375, xmin=0.6808141469955444, ymax=0.6448333263397217, xmax=0.7779921293258667\n",
      "Done\n"
     ]
    }
   ],
   "source": [
    "print('Running inference for {}... '.format(image_path), end='')\n",
    "\n",
    "image_np = load_image_into_numpy_array(image_path)\n",
    "img = mpimg.imread(image_path)\n",
    "\n",
    "plt.imshow(img)\n",
    "\n",
    "input_tensor = tf.convert_to_tensor(np.expand_dims(image_np, 0), dtype=tf.float32)\n",
    "\n",
    "detections = detect_fn(input_tensor)\n",
    "\n",
    "num_detections = int(detections.pop('num_detections'))\n",
    "detections = {key: value[0, :num_detections].numpy()\n",
    "                  for key, value in detections.items()}\n",
    "detections['num_detections'] = num_detections\n",
    "\n",
    "    # detection_classes should be ints.\n",
    "detections['detection_classes'] = detections['detection_classes'].astype(np.int64)\n",
    "label_id_offset = 1\n",
    "image_np_with_detections = image_np.copy()\n",
    "detection_scores = detections['detection_scores']\n",
    "num_scores_over_threshold = (detection_scores > 0.8).sum()\n",
    "\n",
    "print('{} detections with score over 0.8'.format(num_scores_over_threshold))\n",
    "detection_boxes = detections['detection_boxes']\n",
    "for i in range(num_scores_over_threshold):\n",
    "    if detection_scores[i] > 0.8:\n",
    "        ymin, xmin, ymax, xmax = detection_boxes[i]\n",
    "        print('Box {}: ymin={}, xmin={}, ymax={}, xmax={}'.format(i, ymin, xmin, ymax, xmax))\n",
    "\n",
    "\n",
    "viz_utils.visualize_boxes_and_labels_on_image_array(\n",
    "            image_np,\n",
    "            detections['detection_boxes'],\n",
    "            detections['detection_classes']+label_id_offset,\n",
    "            detections['detection_scores'],\n",
    "            category_index,\n",
    "            use_normalized_coordinates=True,\n",
    "            max_boxes_to_draw=200,\n",
    "            min_score_thresh=.10,\n",
    "            agnostic_mode=False)\n",
    "\n",
    "plt.figure()\n",
    "plt.imshow(image_np)\n",
    "plt.show()\n",
    "print('Done')\n",
    "plt.show()"
   ]
  },
  {
   "cell_type": "code",
   "execution_count": null,
   "id": "1688336c-f67b-4135-afa8-57979a4a5cc3",
   "metadata": {},
   "outputs": [],
   "source": []
  }
 ],
 "metadata": {
  "kernelspec": {
   "display_name": "Python 3",
   "language": "python",
   "name": "python3"
  },
  "language_info": {
   "codemirror_mode": {
    "name": "ipython",
    "version": 3
   },
   "file_extension": ".py",
   "mimetype": "text/x-python",
   "name": "python",
   "nbconvert_exporter": "python",
   "pygments_lexer": "ipython3",
   "version": "3.9.16"
  }
 },
 "nbformat": 4,
 "nbformat_minor": 5
}
