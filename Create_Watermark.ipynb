{
 "cells": [
  {
   "cell_type": "code",
   "execution_count": 19,
   "metadata": {
    "id": "ljWTJPmH8mfN",
    "tags": []
   },
   "outputs": [],
   "source": [
    "import os\n",
    "import cv2\n",
    "import numpy as np\n",
    "import random\n",
    "from xml.etree.ElementTree import Element, SubElement, tostring, ElementTree\n",
    "import time"
   ]
  },
  {
   "cell_type": "code",
   "execution_count": 11,
   "metadata": {
    "id": "BfNTofh28pgT",
    "tags": []
   },
   "outputs": [],
   "source": [
    "def add_watermark(image_path, watermark_path, output_image_path):\n",
    "    image = cv2.imread(image_path)\n",
    "    watermark = cv2.imread(watermark_path, cv2.IMREAD_UNCHANGED)\n",
    "\n",
    "    h, w, _ = image.shape\n",
    "    wh, ww, _ = watermark.shape\n",
    "\n",
    "    if wh > h or ww > w:\n",
    "        raise ValueError('Watermark dimensions are larger than the input image dimensions.')\n",
    "\n",
    "    x = random.randint(0, w - ww)\n",
    "    y = random.randint(0, h - wh)\n",
    "\n",
    "    overlay = np.zeros_like(image)\n",
    "    overlay[y:y+wh, x:x+ww] = watermark[:, :, 0:3]\n",
    "\n",
    "    alpha = watermark[:, :, 3] / 255.0\n",
    "    alpha = alpha.astype(np.float32)    \n",
    "    alpha_expanded = np.expand_dims(alpha, axis=2)\n",
    "    alpha_overlay = np.repeat(alpha_expanded, repeats=3, axis=2).astype(np.double) # convert alpha_overlay to type double\n",
    "    alpha_overlay = alpha_overlay / np.max(alpha_overlay)\n",
    "    image[y:y+wh, x:x+ww] = cv2.addWeighted(image[y:y+wh, x:x+ww], 1, overlay[y:y+wh, x:x+ww], 0.5, gamma=0.5)\n",
    "\n",
    "\n",
    "    os.makedirs(os.path.dirname(output_image_path), exist_ok=True)\n",
    "    cv2.imwrite(output_image_path, image)\n",
    "    return x, y, ww, wh\n"
   ]
  },
  {
   "cell_type": "code",
   "execution_count": 18,
   "metadata": {
    "id": "QcBTZK1J8X5A",
    "tags": []
   },
   "outputs": [],
   "source": [
    "def create_annotation(image_path, output_annotation_path, bbox):\n",
    "    x, y, width, height = bbox\n",
    "    \n",
    "    image = cv2.imread(image_path)\n",
    "    h, w, _ = image.shape\n",
    "\n",
    "    root = Element('annotation')\n",
    "\n",
    "\n",
    "    filename = SubElement(root, 'filename')\n",
    "    filename.text = os.path.basename(image_path)\n",
    "\n",
    "    size = SubElement(root, 'size')\n",
    "    width_element = SubElement(size, 'width')\n",
    "    width_element.text = str(w)\n",
    "    height_element = SubElement(size, 'height')\n",
    "    height_element.text = str(h)\n",
    "    depth_element = SubElement(size, 'depth')\n",
    "    depth_element.text = '3'\n",
    "\n",
    "    segmented = SubElement(root, 'segmented')\n",
    "    segmented.text = '0'\n",
    "\n",
    "    object_element = SubElement(root, 'object')\n",
    "    name = SubElement(object_element, 'name')\n",
    "    name.text = 'watermark'\n",
    "    pose = SubElement(object_element, 'pose')\n",
    "    pose.text = 'Unspecified'\n",
    "    truncated = SubElement(object_element, 'truncated')\n",
    "    truncated.text = '0'\n",
    "    difficult = SubElement(object_element, 'difficult')\n",
    "    difficult.text = '0'\n",
    "\n",
    "    bndbox = SubElement(object_element, 'bndbox')\n",
    "    xmin = SubElement(bndbox, 'xmin')\n",
    "    xmin.text = str(x)\n",
    "    ymin = SubElement(bndbox, 'ymin')\n",
    "    ymin.text = str(y)\n",
    "    xmax = SubElement(bndbox, 'xmax')\n",
    "    xmax.text = str(x + width)\n",
    "    ymax = SubElement(bndbox, 'ymax')\n",
    "    ymax.text = str(y + height)\n",
    "\n",
    "    tree = ElementTree(root)\n",
    "    tree.write(output_annotation_path)\n",
    "\n"
   ]
  },
  {
   "cell_type": "code",
   "execution_count": 25,
   "metadata": {
    "id": "KnNh-6Lk8la1",
    "tags": []
   },
   "outputs": [],
   "source": [
    "IMAGE_PATH = 'train/no-watermark'\n",
    "WATERMARK_PATH = 'watermark.png'\n",
    "OUTPUT_TRAIN_IMAGE_PATH = 'TensorFlow/workspace/training_demo/images/train'\n",
    "\n",
    "OUTPUT_TEST_IMAGE_PATH = 'TensorFlow/workspace/training_demo/images/test'\n",
    "\n",
    "OUTPUT_TRAIN_ANNOTATION_PATH = 'TensorFlow/workspace/training_demo/images/train'\n",
    "OUTPUT_TEST_ANNOTATION_PATH = 'TensorFlow/workspace/training_demo/images/test'"
   ]
  },
  {
   "cell_type": "code",
   "execution_count": 26,
   "metadata": {
    "id": "OvGSUAr2Pn9t",
    "tags": []
   },
   "outputs": [
    {
     "name": "stdout",
     "output_type": "stream",
     "text": [
      "Elapsed time: 63.660650968551636 seconds\n"
     ]
    }
   ],
   "source": [
    "#create files with watermark\n",
    "start_time = time.time()\n",
    "i = 1\n",
    "for im in os.listdir(IMAGE_PATH):\n",
    "  if im.endswith('.jpg') or im.endswith('.jpeg') or im.endswith('.png'):\n",
    "    image_path = os.path.join(IMAGE_PATH, im)\n",
    "    filename, ext = os.path.splitext(os.path.basename(image_path))\n",
    "    new_filename = filename + 'w' + ext\n",
    "    if(i<=10000):\n",
    "        output_path = os.path.join(OUTPUT_TRAIN_IMAGE_PATH, new_filename)\n",
    "    else:\n",
    "        output_path = os.path.join(OUTPUT_TEST_IMAGE_PATH, new_filename)\n",
    "    bbox = add_watermark(image_path, WATERMARK_PATH, output_path)\n",
    "\n",
    "    annote_filename = filename + 'w.xml'\n",
    "    if(i<=10000):\n",
    "        output_annotation_path = os.path.join(OUTPUT_TRAIN_ANNOTATION_PATH, annote_filename)\n",
    "    else:\n",
    "        output_annotation_path = os.path.join(OUTPUT_TEST_ANNOTATION_PATH, annote_filename)\n",
    "    \n",
    "    if not os.path.exists(os.path.dirname(output_annotation_path)):\n",
    "        os.makedirs(os.path.dirname(output_annotation_path))\n",
    "    create_annotation(output_path, output_annotation_path, bbox)\n",
    "    i += 1\n",
    "    \n",
    "end_time = time.time()\n",
    "elapsed_time = end_time - start_time\n",
    "print(\"Elapsed time:\", elapsed_time, \"seconds\")"
   ]
  },
  {
   "cell_type": "code",
   "execution_count": null,
   "metadata": {
    "id": "MLZKjbdWFdzH"
   },
   "outputs": [],
   "source": [
    "import shutil\n",
    "\n",
    "for im in os.listdir(IMAGE_PATH):\n",
    "  if im.endswith('w.jpeg'):\n",
    "    shutil.move(os.path.join(IMAGE_PATH,im), OUTPUT_IMAGE_PATH)"
   ]
  },
  {
   "cell_type": "markdown",
   "metadata": {
    "id": "_NhvU-10Hhvi"
   },
   "source": [
    "Once the images are separated into ones without watermarks (Imagesnw) and ones with watermarks (Imagesw)"
   ]
  },
  {
   "cell_type": "code",
   "execution_count": null,
   "metadata": {
    "id": "B04q307yHwxw"
   },
   "outputs": [],
   "source": []
  }
 ],
 "metadata": {
  "colab": {
   "provenance": []
  },
  "kernelspec": {
   "display_name": "Python 3 (ipykernel)",
   "language": "python",
   "name": "python3"
  },
  "language_info": {
   "codemirror_mode": {
    "name": "ipython",
    "version": 3
   },
   "file_extension": ".py",
   "mimetype": "text/x-python",
   "name": "python",
   "nbconvert_exporter": "python",
   "pygments_lexer": "ipython3",
   "version": "3.7.16"
  }
 },
 "nbformat": 4,
 "nbformat_minor": 4
}
